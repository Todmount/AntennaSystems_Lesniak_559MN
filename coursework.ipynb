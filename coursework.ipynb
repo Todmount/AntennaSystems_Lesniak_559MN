{
 "cells": [
  {
   "cell_type": "markdown",
   "metadata": {},
   "source": [
    "# Розрахунок рупорно-лінзової антени з металодіелектричною лінзою\n",
    "1) І.П. Заїкін, О.О. Зеленський, О.В. Тоцький, С.К. Абрамов, Антенні пристрої засобів зв’язку, 2009, СС. 156 – 200.  \n",
    "2) И.П. Заикин, А.В. Тоцкий, С.К. Абрамов, Проектирование антенных устройств систем связи, 2007, СС. 3 – 35. \n"
   ]
  },
  {
   "cell_type": "markdown",
   "metadata": {},
   "source": [
    "Вихідні дані:  \n",
    "\n",
    "- Напруженість поля E \\[мВ/м\\] = 2  \n",
    "- Потужність передавача Р \\[кВт\\] = 3.5  \n",
    "- Середня довжина робочої хвилі λ0 \\[м\\] = 6 * 10^-2\n",
    "- Висота передавальної та приймальної антени відповідно h1 = h2 = 50 м  \n",
    "- Довжина ретрансляційної ділянки R = 50 км  \n",
    "- Частотна смуга 2Δf/f0 = 10%;  \n",
    "- Вертикальна поляризація"
   ]
  },
  {
   "cell_type": "markdown",
   "metadata": {},
   "source": [
    "За результатами розрахунків у розрахунково-пояснювальній записці має бути представлено таке:\n",
    "- графіки нормованих діаграм спрямованості антени в площинах Е та Н з визначенням ширини головної пелюстки та рівня бокових пелюсток;\n",
    "- креслення конструкції антени у відповідному масштабі;\n",
    "- креслення конструкції хвилеводно-коаксіального переходу.\n"
   ]
  },
  {
   "cell_type": "code",
   "execution_count": 2,
   "metadata": {},
   "outputs": [],
   "source": [
    "import numpy as np"
   ]
  },
  {
   "cell_type": "markdown",
   "metadata": {},
   "source": [
    "Задаємо змінні"
   ]
  },
  {
   "cell_type": "code",
   "execution_count": 3,
   "metadata": {},
   "outputs": [],
   "source": [
    "E = 2 # Напруженість поля E, мВ/м\n",
    "P = 3.5 # Потужність передавача Р, кВт\n",
    "wavelength_0 = 6 * 10**-2 # Середня довжина робочої хвилі λ_0, м\n",
    "\n",
    "h1 = 50 # висота передавальної та приймальної антени, м\n",
    "R = 50 # довжина ретрансляційної ділянки, км\n",
    "Chas_smug = 0.1 # частотна смуга 2Δf/f0 = 10%"
   ]
  },
  {
   "cell_type": "code",
   "execution_count": 5,
   "metadata": {},
   "outputs": [
    {
     "name": "stdout",
     "output_type": "stream",
     "text": [
      "Відстань до прямої видимості 50.49 км\n"
     ]
    }
   ],
   "source": [
    "R0 = 3.57 * (2 * np.sqrt(h1)) # відстань прямої видимості, км\n",
    "print(f\"Відстань до прямої видимості {round(R0, 2)} км\")"
   ]
  },
  {
   "cell_type": "markdown",
   "metadata": {},
   "source": [
    "Коефіцієнт спрямованої дії виведений з формули Введенського\n",
    "$$  D_m = \\frac{E^2 R^4 \\lambda^2}{(2.18)^2 P (h')^4} $$"
   ]
  },
  {
   "cell_type": "code",
   "execution_count": 7,
   "metadata": {},
   "outputs": [
    {
     "name": "stdout",
     "output_type": "stream",
     "text": [
      "КСД = 2869.03813\n"
     ]
    }
   ],
   "source": [
    "h_1 = h1 - (R**2 / 51.2) # зведена висота антени\n",
    "Dm = (E**2 * R**4 * wavelength_0**2) / (2.18**2 * P * h_1**4)\n",
    "print(f\"КСД = {round(Dm, 5)}\")"
   ]
  },
  {
   "cell_type": "markdown",
   "metadata": {},
   "source": [
    "Знаходимо геометричну площу розкриву  \n",
    "КВП антени у межах $ v_{a} = 0.5  ...  0.6 $"
   ]
  },
  {
   "cell_type": "code",
   "execution_count": 8,
   "metadata": {},
   "outputs": [
    {
     "name": "stdout",
     "output_type": "stream",
     "text": [
      "Геометрична площа розкриву = 1.644\n"
     ]
    }
   ],
   "source": [
    "va = 0.5 # задаємо КВП = 0.5\n",
    "# Sp = (wavelength_0**2 / 4 * np.pi) * (Dm / va)\n",
    "Sp = (wavelength_0**2 * Dm) / (4 * np.pi * va)\n",
    "print (f\"Геометрична площа розкриву = {round(Sp, 3)}\")"
   ]
  },
  {
   "cell_type": "markdown",
   "metadata": {},
   "source": [
    "Визначаємо розміри розкриву лінзи $ d_{pE} $ i $ d_{pH} $  \n",
    "і задаємо фокусну відстань такою, що дорівнює більшому розміру розкриву"
   ]
  },
  {
   "cell_type": "code",
   "execution_count": 9,
   "metadata": {},
   "outputs": [
    {
     "name": "stdout",
     "output_type": "stream",
     "text": [
      "d_pH = 1.107585029772318 \n",
      "d_pE = 1.4841639398949062\n"
     ]
    }
   ],
   "source": [
    "d_pH = np.sqrt(Sp / 1.34)\n",
    "d_pE = np.sqrt(Sp * 1.34)\n",
    "focus = d_pE\n",
    "print(f\"d_pH = {d_pH} \\nd_pE = {d_pE}\")"
   ]
  },
  {
   "cell_type": "markdown",
   "metadata": {},
   "source": [
    "Вибираємо коефіцієнт заломлення у межах $ n = 1.3 ... 1.6 $  \n",
    "Задаючись значенням $ y = 0...d_{pE}/2 $ i $ x = 0...d_{pH}/2 $ обчислюємо й будуємо профілі лінзи у площинах E і H"
   ]
  },
  {
   "cell_type": "code",
   "execution_count": 10,
   "metadata": {},
   "outputs": [
    {
     "name": "stdout",
     "output_type": "stream",
     "text": [
      "Профіль лінзи у плошині Е = 0.45675153488016573\n",
      "Профіль лінзи у плошині H = 0.2825422135129044\n"
     ]
    }
   ],
   "source": [
    "n = 1.3 # коефіцієнт заломлення\n",
    "y = d_pE / 2\n",
    "x = d_pH / 2\n",
    "\n",
    "# площина E\n",
    "mn1 = focus/(n+1)\n",
    "mn2 = y**2 / (n**2 - 1)\n",
    "\n",
    "z_E = -mn1 + np.sqrt(mn1**2 + mn2)\n",
    "print(f\"Профіль лінзи у плошині Е = {z_E}\")\n",
    "\n",
    "# площина H\n",
    "mn2 = x**2 / (n**2 - 1)\n",
    "\n",
    "z_H = -mn1 + np.sqrt(mn1**2 + mn2)\n",
    "print(f\"Профіль лінзи у плошині H = {z_H}\")"
   ]
  },
  {
   "cell_type": "markdown",
   "metadata": {},
   "source": [
    "Знаходимо значення товщини лінзи"
   ]
  },
  {
   "cell_type": "code",
   "execution_count": 11,
   "metadata": {},
   "outputs": [
    {
     "name": "stdout",
     "output_type": "stream",
     "text": [
      "Товщина лінзи у плошині Е = 0.3315112203981674\n",
      "Товщина лінзи у плошині H = 0.258976994343053\n"
     ]
    }
   ],
   "source": [
    "# площина E\n",
    "mn1 = focus/(n+1)\n",
    "mn2 = d_pE/(4 * (n**2 - 1))\n",
    "\n",
    "t_E = -mn1 + np.sqrt(mn1**2 + mn2)\n",
    "print(f\"Товщина лінзи у плошині Е = {t_E}\")\n",
    "\n",
    "# площина H\n",
    "mn2 = d_pH/(4 * (n**2 - 1))\n",
    "\n",
    "t_H = -mn1 + np.sqrt(mn1**2 + mn2)\n",
    "print(f\"Товщина лінзи у плошині H = {t_H}\")"
   ]
  },
  {
   "cell_type": "code",
   "execution_count": null,
   "metadata": {},
   "outputs": [],
   "source": []
  }
 ],
 "metadata": {
  "kernelspec": {
   "display_name": "ai_cv_uni",
   "language": "python",
   "name": "python3"
  },
  "language_info": {
   "codemirror_mode": {
    "name": "ipython",
    "version": 3
   },
   "file_extension": ".py",
   "mimetype": "text/x-python",
   "name": "python",
   "nbconvert_exporter": "python",
   "pygments_lexer": "ipython3",
   "version": "3.11.8"
  }
 },
 "nbformat": 4,
 "nbformat_minor": 2
}
